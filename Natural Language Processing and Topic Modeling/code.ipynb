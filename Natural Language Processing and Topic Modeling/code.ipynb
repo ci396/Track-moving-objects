{
  "nbformat": 4,
  "nbformat_minor": 0,
  "metadata": {
    "colab": {
      "name": "Untitled1.ipynb",
      "version": "0.3.2",
      "provenance": [],
      "include_colab_link": true
    },
    "kernelspec": {
      "name": "python3",
      "display_name": "Python 3"
    }
  },
  "cells": [
    {
      "cell_type": "markdown",
      "metadata": {
        "id": "view-in-github",
        "colab_type": "text"
      },
      "source": [
        "<a href=\"https://colab.research.google.com/github/ci396/Yuqing-projects/blob/master/code.ipynb\" target=\"_parent\"><img src=\"https://colab.research.google.com/assets/colab-badge.svg\" alt=\"Open In Colab\"/></a>"
      ]
    },
    {
      "cell_type": "code",
      "metadata": {
        "id": "5UiZK4FMEdcJ",
        "colab_type": "code",
        "outputId": "a76355a0-3261-41d7-9778-00e261c8fbea",
        "colab": {
          "base_uri": "https://localhost:8080/",
          "height": 125
        }
      },
      "source": [
        "from google.colab import drive\n",
        "\n",
        "drive.mount('/content/project1')"
      ],
      "execution_count": 0,
      "outputs": [
        {
          "output_type": "stream",
          "text": [
            "Go to this URL in a browser: https://accounts.google.com/o/oauth2/auth?client_id=947318989803-6bn6qk8qdgf4n4g3pfee6491hc0brc4i.apps.googleusercontent.com&redirect_uri=urn%3Aietf%3Awg%3Aoauth%3A2.0%3Aoob&scope=email%20https%3A%2F%2Fwww.googleapis.com%2Fauth%2Fdocs.test%20https%3A%2F%2Fwww.googleapis.com%2Fauth%2Fdrive%20https%3A%2F%2Fwww.googleapis.com%2Fauth%2Fdrive.photos.readonly%20https%3A%2F%2Fwww.googleapis.com%2Fauth%2Fpeopleapi.readonly&response_type=code\n",
            "\n",
            "Enter your authorization code:\n",
            "··········\n",
            "Mounted at /content/project1\n"
          ],
          "name": "stdout"
        }
      ]
    },
    {
      "cell_type": "code",
      "metadata": {
        "id": "n2hFWQnXGn72",
        "colab_type": "code",
        "outputId": "56bcc1fb-b3fa-41b3-da44-c80b1ed1e219",
        "colab": {
          "base_uri": "https://localhost:8080/",
          "height": 105
        }
      },
      "source": [
        "import warnings\n",
        "warnings.filterwarnings('ignore')\n",
        "import numpy as np\n",
        "import pandas as pd\n",
        "import nltk\n",
        "# REGULAR EXPRESSION\n",
        "import re\n",
        "import os\n",
        "\n",
        "from sklearn import decomposition\n",
        "from sklearn.feature_extraction.text import TfidfVectorizer\n",
        "import matplotlib.pyplot as plt\n",
        "\n",
        "nltk.download('punkt')\n",
        "nltk.download('stopwords')"
      ],
      "execution_count": 0,
      "outputs": [
        {
          "output_type": "stream",
          "text": [
            "[nltk_data] Downloading package punkt to /root/nltk_data...\n",
            "[nltk_data]   Unzipping tokenizers/punkt.zip.\n",
            "[nltk_data] Downloading package stopwords to /root/nltk_data...\n",
            "[nltk_data]   Unzipping corpora/stopwords.zip.\n"
          ],
          "name": "stdout"
        },
        {
          "output_type": "execute_result",
          "data": {
            "text/plain": [
              "True"
            ]
          },
          "metadata": {
            "tags": []
          },
          "execution_count": 2
        }
      ]
    },
    {
      "cell_type": "code",
      "metadata": {
        "id": "qxYhA6HhGtk6",
        "colab_type": "code",
        "colab": {}
      },
      "source": [
        "#import three lists: titles and wikipedia synopses\n",
        "titles = open('/content/project1/My Drive/Project1/title_list.txt').read().split('\\n')\n",
        "titles = titles[:100] #ensures that only the first 100 are read in\n",
        "\n",
        "#The wiki synopses and imdb synopses of each movie is seperated by the keywords \"BREAKS HERE\". \n",
        "#Each synoposes may consist of multiple paragraphs.\n",
        "synopses_wiki = open('/content/project1/My Drive/Project1/synopses_list_wiki.txt').read().split('\\n BREAKS HERE')\n",
        "synopses_wiki = synopses_wiki[:100]\n",
        "\n",
        "synopses_imdb = open('/content/project1/My Drive/Project1/synopses_list_imdb.txt').read().split('\\n BREAKS HERE')\n",
        "synopses_imdb = synopses_imdb[:100]\n",
        "\n",
        "#Combine imdb and wiki to get full synoposes for the top 100 movies. \n",
        "synopses = []\n",
        "for i in range(len(synopses_wiki)):\n",
        "    item = synopses_wiki[i] + synopses_imdb[i]\n",
        "    synopses.append(item)\n",
        "    \n",
        "#Because these synopses have already been ordered in popularity order, \n",
        "#we just need to generate a list of ordered numbers for future usage.\n",
        "ranks = range(len(titles))"
      ],
      "execution_count": 0,
      "outputs": []
    },
    {
      "cell_type": "code",
      "metadata": {
        "id": "k1G24osMHqb-",
        "colab_type": "code",
        "outputId": "c5ddacda-dcb0-4437-da46-bbfb2cc291d3",
        "colab": {
          "base_uri": "https://localhost:8080/",
          "height": 52
        }
      },
      "source": [
        "# Use nltk's English stopwords.\n",
        "stopwords = nltk.corpus.stopwords.words('english')\n",
        "\n",
        "print (\"We use \" + str(len(stopwords)) + \" stopwords from nltk library.\")\n",
        "print (stopwords[:20])\n"
      ],
      "execution_count": 0,
      "outputs": [
        {
          "output_type": "stream",
          "text": [
            "We use 179 stopwords from nltk library.\n",
            "['i', 'me', 'my', 'myself', 'we', 'our', 'ours', 'ourselves', 'you', \"you're\", \"you've\", \"you'll\", \"you'd\", 'your', 'yours', 'yourself', 'yourselves', 'he', 'him', 'his']\n"
          ],
          "name": "stdout"
        }
      ]
    },
    {
      "cell_type": "code",
      "metadata": {
        "id": "IqVYr_Gd_W20",
        "colab_type": "code",
        "colab": {}
      },
      "source": [
        "from nltk.stem.snowball import SnowballStemmer\n",
        "stemmer = SnowballStemmer(\"english\")\n",
        "\n",
        "# tokenization and stemming\n",
        "def tokenization_and_stemming(text):\n",
        "    # exclude stop words and tokenize the document, generate a list of string \n",
        "    tokens = [word.lower() for sent in nltk.sent_tokenize(text) for word in nltk.word_tokenize(sent) if word not in stopwords]\n",
        "\n",
        "    filtered_tokens = []\n",
        "    \n",
        "    # filter out any tokens not containing letters (e.g., numeric tokens, raw punctuation)\n",
        "    for token in tokens:\n",
        "        if re.search('[a-zA-Z]', token):\n",
        "            filtered_tokens.append(token)\n",
        "            \n",
        "    # stemming\n",
        "    stems = [stemmer.stem(t) for t in filtered_tokens]\n",
        "    return stems\n",
        "\n",
        "# tokenization without stemming\n",
        "def tokenization(text):\n",
        "    tokens = [word.lower() for sent in nltk.sent_tokenize(text) for word in nltk.word_tokenize(sent) if word not in stopwords]\n",
        "    filtered_tokens = []\n",
        "    for token in tokens:\n",
        "        if re.search('[a-zA-Z]', token):\n",
        "            filtered_tokens.append(token)\n",
        "    return filtered_tokens"
      ],
      "execution_count": 0,
      "outputs": []
    },
    {
      "cell_type": "code",
      "metadata": {
        "id": "uqDE7meGBcMr",
        "colab_type": "code",
        "outputId": "48c9ad0e-b76e-4a1e-8c38-71ec5346f633",
        "colab": {
          "base_uri": "https://localhost:8080/",
          "height": 34
        }
      },
      "source": [
        "# tokenization and stemming\n",
        "tokenization_and_stemming(\"she looked at her father's arm.\")"
      ],
      "execution_count": 0,
      "outputs": [
        {
          "output_type": "execute_result",
          "data": {
            "text/plain": [
              "['look', 'father', \"'s\", 'arm']"
            ]
          },
          "metadata": {
            "tags": []
          },
          "execution_count": 11
        }
      ]
    },
    {
      "cell_type": "code",
      "metadata": {
        "id": "yTJzldszGo19",
        "colab_type": "code",
        "colab": {}
      },
      "source": [
        "# 1. do tokenization and stemming for all the documents\n",
        "# 2. also just do tokenization for all the documents\n",
        "# the goal is to create a mapping from stemmed words to original tokenized words for result interpretation.\n",
        "docs_stemmed = []\n",
        "docs_tokenized = []\n",
        "for i in synopses:\n",
        "    tokenized_and_stemmed_results = tokenization_and_stemming(i)\n",
        "    docs_stemmed.extend(tokenized_and_stemmed_results)\n",
        "    \n",
        "    tokenized_results = tokenization(i)\n",
        "    docs_tokenized.extend(tokenized_results)"
      ],
      "execution_count": 0,
      "outputs": []
    },
    {
      "cell_type": "code",
      "metadata": {
        "id": "3lptieYGGrIa",
        "colab_type": "code",
        "outputId": "1dd09e32-81ed-48e7-98cf-563def21fffe",
        "colab": {
          "base_uri": "https://localhost:8080/",
          "height": 221
        }
      },
      "source": [
        "vocab_frame_dict = {docs_stemmed[x]:docs_tokenized[x] for x in range(len(docs_stemmed))}\n",
        "print (vocab_frame_dict['arm'])"
      ],
      "execution_count": 0,
      "outputs": [
        {
          "output_type": "stream",
          "text": [
            "arms\n"
          ],
          "name": "stdout"
        },
        {
          "output_type": "error",
          "ename": "AttributeError",
          "evalue": "ignored",
          "traceback": [
            "\u001b[0;31m---------------------------------------------------------------------------\u001b[0m",
            "\u001b[0;31mAttributeError\u001b[0m                            Traceback (most recent call last)",
            "\u001b[0;32m<ipython-input-55-5479cd5d6a76>\u001b[0m in \u001b[0;36m<module>\u001b[0;34m()\u001b[0m\n\u001b[1;32m      1\u001b[0m \u001b[0mvocab_frame_dict\u001b[0m \u001b[0;34m=\u001b[0m \u001b[0;34m{\u001b[0m\u001b[0mdocs_stemmed\u001b[0m\u001b[0;34m[\u001b[0m\u001b[0mx\u001b[0m\u001b[0;34m]\u001b[0m\u001b[0;34m:\u001b[0m\u001b[0mdocs_tokenized\u001b[0m\u001b[0;34m[\u001b[0m\u001b[0mx\u001b[0m\u001b[0;34m]\u001b[0m \u001b[0;32mfor\u001b[0m \u001b[0mx\u001b[0m \u001b[0;32min\u001b[0m \u001b[0mrange\u001b[0m\u001b[0;34m(\u001b[0m\u001b[0mlen\u001b[0m\u001b[0;34m(\u001b[0m\u001b[0mdocs_stemmed\u001b[0m\u001b[0;34m)\u001b[0m\u001b[0;34m)\u001b[0m\u001b[0;34m}\u001b[0m\u001b[0;34m\u001b[0m\u001b[0;34m\u001b[0m\u001b[0m\n\u001b[1;32m      2\u001b[0m \u001b[0mprint\u001b[0m \u001b[0;34m(\u001b[0m\u001b[0mvocab_frame_dict\u001b[0m\u001b[0;34m[\u001b[0m\u001b[0;34m'arm'\u001b[0m\u001b[0;34m]\u001b[0m\u001b[0;34m)\u001b[0m\u001b[0;34m\u001b[0m\u001b[0;34m\u001b[0m\u001b[0m\n\u001b[0;32m----> 3\u001b[0;31m \u001b[0mprint\u001b[0m\u001b[0;34m(\u001b[0m\u001b[0mdocs_stemmed\u001b[0m\u001b[0;34m.\u001b[0m\u001b[0mshape\u001b[0m\u001b[0;34m(\u001b[0m\u001b[0;34m)\u001b[0m\u001b[0;34m)\u001b[0m\u001b[0;34m\u001b[0m\u001b[0;34m\u001b[0m\u001b[0m\n\u001b[0m",
            "\u001b[0;31mAttributeError\u001b[0m: 'list' object has no attribute 'shape'"
          ]
        }
      ]
    },
    {
      "cell_type": "code",
      "metadata": {
        "id": "VFTTdIMxVqGj",
        "colab_type": "code",
        "outputId": "0e074a26-3371-4b46-c4c8-9e190cc64b32",
        "colab": {
          "base_uri": "https://localhost:8080/",
          "height": 34
        }
      },
      "source": [
        "# define vectorizer parameters\n",
        "# TfidfVectorizer will help us to create tf-idf matrix\n",
        "# max_df : maximum document frequency for the given word\n",
        "# min_df : minimum document frequency for the given word\n",
        "# max_features: maximum number of words\n",
        "# use_idf: if not true, we only calculate tf\n",
        "# stop_words : built-in stop words\n",
        "# tokenizer: how to tokenize the document\n",
        "# ngram_range: (min_value, max_value), eg. (1, 3) means the result will include 1-gram, 2-gram, 3-gram\n",
        "tfidf_model = TfidfVectorizer(max_df=0.8, max_features=2000,\n",
        "                                 min_df=0, stop_words='english',\n",
        "                                 use_idf=True, tokenizer=tokenization_and_stemming, ngram_range=(1,3))\n",
        "\n",
        "tfidf_matrix = tfidf_model.fit_transform(synopses) #fit the vectorizer to synopses\n",
        "\n",
        "print (\"In total, there are \" + str(tfidf_matrix.shape[0]) + \\\n",
        "      \" synoposes and \" + str(tfidf_matrix.shape[1]) + \" terms.\")"
      ],
      "execution_count": 0,
      "outputs": [
        {
          "output_type": "stream",
          "text": [
            "In total, there are 100 synoposes and 2000 terms.\n"
          ],
          "name": "stdout"
        }
      ]
    },
    {
      "cell_type": "code",
      "metadata": {
        "id": "AqUrmNYsVzR6",
        "colab_type": "code",
        "outputId": "cad0eda7-0201-488b-e58f-85b93ce27963",
        "colab": {
          "base_uri": "https://localhost:8080/",
          "height": 390
        }
      },
      "source": [
        "tfidf_model.get_params()"
      ],
      "execution_count": 0,
      "outputs": [
        {
          "output_type": "execute_result",
          "data": {
            "text/plain": [
              "{'analyzer': 'word',\n",
              " 'binary': False,\n",
              " 'decode_error': 'strict',\n",
              " 'dtype': numpy.float64,\n",
              " 'encoding': 'utf-8',\n",
              " 'input': 'content',\n",
              " 'lowercase': True,\n",
              " 'max_df': 0.8,\n",
              " 'max_features': 2000,\n",
              " 'min_df': 0,\n",
              " 'ngram_range': (1, 3),\n",
              " 'norm': 'l2',\n",
              " 'preprocessor': None,\n",
              " 'smooth_idf': True,\n",
              " 'stop_words': 'english',\n",
              " 'strip_accents': None,\n",
              " 'sublinear_tf': False,\n",
              " 'token_pattern': '(?u)\\\\b\\\\w\\\\w+\\\\b',\n",
              " 'tokenizer': <function __main__.tokenization_and_stemming>,\n",
              " 'use_idf': True,\n",
              " 'vocabulary': None}"
            ]
          },
          "metadata": {
            "tags": []
          },
          "execution_count": 15
        }
      ]
    },
    {
      "cell_type": "code",
      "metadata": {
        "id": "0l8y9YQKV60s",
        "colab_type": "code",
        "outputId": "92c677d7-55a3-47ed-a843-eecee5c96c9e",
        "colab": {
          "base_uri": "https://localhost:8080/",
          "height": 17812
        }
      },
      "source": [
        "# words\n",
        "tf_selected_words = tfidf_model.get_feature_names()\n",
        "tf_selected_words"
      ],
      "execution_count": 0,
      "outputs": [
        {
          "output_type": "execute_result",
          "data": {
            "text/plain": [
              "[\"'d\",\n",
              " \"'m\",\n",
              " \"'s apart\",\n",
              " \"'s arm\",\n",
              " \"'s bodi\",\n",
              " \"'s death\",\n",
              " \"'s father\",\n",
              " \"'s friend\",\n",
              " \"'s home\",\n",
              " \"'s hous\",\n",
              " \"'s life\",\n",
              " \"'s marriag\",\n",
              " \"'s men\",\n",
              " \"'s mother\",\n",
              " \"'s murder\",\n",
              " \"'s offic\",\n",
              " \"'s plan\",\n",
              " \"'s son\",\n",
              " \"'s voic\",\n",
              " \"'s wife\",\n",
              " 'abandon',\n",
              " 'abil',\n",
              " 'abl',\n",
              " 'aboard',\n",
              " 'abus',\n",
              " 'accept',\n",
              " 'accid',\n",
              " 'accident',\n",
              " 'accompani',\n",
              " 'accomplic',\n",
              " 'accus',\n",
              " 'acquaint',\n",
              " 'act',\n",
              " 'action',\n",
              " 'actor',\n",
              " 'actual',\n",
              " 'adam',\n",
              " 'address',\n",
              " 'admir',\n",
              " 'admit',\n",
              " 'adrian',\n",
              " 'advanc',\n",
              " 'advantag',\n",
              " 'adventur',\n",
              " 'advis',\n",
              " 'affair',\n",
              " 'africa',\n",
              " 'african',\n",
              " 'african queen',\n",
              " 'afterward',\n",
              " 'age',\n",
              " 'agent',\n",
              " 'ago',\n",
              " 'agre',\n",
              " 'ahead',\n",
              " 'aid',\n",
              " 'aim',\n",
              " 'air',\n",
              " 'aircraft',\n",
              " 'airport',\n",
              " 'al',\n",
              " 'albert',\n",
              " 'alcohol',\n",
              " 'alderaan',\n",
              " 'alex',\n",
              " 'alexand',\n",
              " 'ali',\n",
              " 'alic',\n",
              " 'alien',\n",
              " 'aliv',\n",
              " 'allenbi',\n",
              " 'allnut',\n",
              " 'allow',\n",
              " 'alon',\n",
              " 'alreadi',\n",
              " 'altern',\n",
              " 'alvi',\n",
              " 'alway',\n",
              " 'ambush',\n",
              " 'america',\n",
              " 'american',\n",
              " 'ami',\n",
              " 'andi',\n",
              " \"andi 's\",\n",
              " 'andrew',\n",
              " 'angel',\n",
              " 'angela',\n",
              " 'anger',\n",
              " 'angri',\n",
              " 'angrili',\n",
              " 'anim',\n",
              " 'anita',\n",
              " 'anna',\n",
              " 'anni',\n",
              " 'announc',\n",
              " 'anoth',\n",
              " 'answer',\n",
              " 'anyon',\n",
              " 'anyth',\n",
              " 'apart',\n",
              " 'apollo',\n",
              " 'apolog',\n",
              " 'appar',\n",
              " 'appear',\n",
              " 'approach',\n",
              " 'arab',\n",
              " 'aragorn',\n",
              " 'archer',\n",
              " 'area',\n",
              " 'argu',\n",
              " 'argument',\n",
              " 'ark',\n",
              " 'arm',\n",
              " 'armi',\n",
              " 'arrang',\n",
              " 'arrang meet',\n",
              " 'arrest',\n",
              " 'arriv',\n",
              " 'art',\n",
              " 'arthur',\n",
              " 'ashley',\n",
              " 'ask',\n",
              " 'assassin',\n",
              " 'assault',\n",
              " 'assembl',\n",
              " 'assign',\n",
              " 'assist',\n",
              " 'associ',\n",
              " 'assum',\n",
              " 'assur',\n",
              " 'astronaut',\n",
              " 'atlanta',\n",
              " 'attack',\n",
              " 'attempt',\n",
              " 'attend',\n",
              " 'attent',\n",
              " 'atticus',\n",
              " 'attitud',\n",
              " 'attract',\n",
              " 'audienc',\n",
              " 'audit',\n",
              " 'aunt',\n",
              " 'aurora',\n",
              " 'author',\n",
              " 'avail',\n",
              " 'avoid',\n",
              " 'awaken',\n",
              " 'awar',\n",
              " 'away',\n",
              " 'awkward',\n",
              " 'babi',\n",
              " 'bad',\n",
              " 'bag',\n",
              " 'bailey',\n",
              " 'balconi',\n",
              " 'ball',\n",
              " 'band',\n",
              " 'bandit',\n",
              " 'bank',\n",
              " 'bar',\n",
              " 'barbara',\n",
              " 'barbara jean',\n",
              " 'bare',\n",
              " 'barn',\n",
              " 'barnett',\n",
              " 'barri',\n",
              " 'base',\n",
              " 'bateman',\n",
              " 'bathroom',\n",
              " 'battl',\n",
              " 'baxter',\n",
              " 'bay',\n",
              " 'beach',\n",
              " 'beal',\n",
              " 'beat',\n",
              " 'beaten',\n",
              " 'beauti',\n",
              " 'becam',\n",
              " 'becom',\n",
              " 'bed',\n",
              " 'bedford',\n",
              " 'bedford fall',\n",
              " 'bedroom',\n",
              " 'befriend',\n",
              " 'beg',\n",
              " 'begun',\n",
              " 'behavior',\n",
              " 'believ',\n",
              " 'bell',\n",
              " 'belloq',\n",
              " 'belong',\n",
              " 'ben',\n",
              " 'ben-hur',\n",
              " 'benedict',\n",
              " 'benjamin',\n",
              " 'bernardo',\n",
              " 'berti',\n",
              " 'best',\n",
              " 'best friend',\n",
              " 'bet',\n",
              " 'betray',\n",
              " 'better',\n",
              " 'betti',\n",
              " 'bick',\n",
              " 'bid',\n",
              " 'big',\n",
              " 'billi',\n",
              " 'bird',\n",
              " 'birthday',\n",
              " 'bitter',\n",
              " 'black',\n",
              " 'blame',\n",
              " 'blanch',\n",
              " 'bligh',\n",
              " 'blind',\n",
              " 'block',\n",
              " 'blond',\n",
              " 'blondi',\n",
              " 'blood',\n",
              " 'bloodi',\n",
              " 'blow',\n",
              " 'board',\n",
              " 'boat',\n",
              " 'bob',\n",
              " 'boca',\n",
              " 'bodi',\n",
              " 'bodyguard',\n",
              " 'bogart',\n",
              " 'bomb',\n",
              " 'bonni',\n",
              " 'boo',\n",
              " 'book',\n",
              " 'booth',\n",
              " 'boss',\n",
              " 'bottl',\n",
              " 'bowman',\n",
              " 'box',\n",
              " 'boxer',\n",
              " 'boy',\n",
              " 'break',\n",
              " 'breakfast',\n",
              " 'bribe',\n",
              " 'bridg',\n",
              " 'brief',\n",
              " 'briefcas',\n",
              " 'briefli',\n",
              " 'brigid',\n",
              " 'bring',\n",
              " 'british',\n",
              " 'broadcast',\n",
              " 'brodi',\n",
              " 'broken',\n",
              " 'brother',\n",
              " 'brought',\n",
              " 'brown',\n",
              " 'bruce',\n",
              " 'brutal',\n",
              " 'buck',\n",
              " 'bud',\n",
              " 'buddi',\n",
              " 'buffalo',\n",
              " 'build',\n",
              " 'build loan',\n",
              " 'bullet',\n",
              " 'bunker',\n",
              " 'bunni',\n",
              " 'buri',\n",
              " 'burk',\n",
              " 'burn',\n",
              " 'burst',\n",
              " 'bus',\n",
              " 'busi',\n",
              " 'butch',\n",
              " 'butch sundanc',\n",
              " 'butler',\n",
              " 'buy',\n",
              " 'buzz',\n",
              " 'c.',\n",
              " 'ca',\n",
              " \"ca n't\",\n",
              " 'cab',\n",
              " 'cabin',\n",
              " 'cage',\n",
              " 'cairo',\n",
              " 'cal',\n",
              " 'california',\n",
              " 'calloway',\n",
              " 'calm',\n",
              " 'came',\n",
              " 'camera',\n",
              " 'camp',\n",
              " 'campaign',\n",
              " 'candi',\n",
              " 'captain',\n",
              " 'captur',\n",
              " 'car',\n",
              " 'card',\n",
              " 'care',\n",
              " 'career',\n",
              " 'carl',\n",
              " 'carlo',\n",
              " 'carlotta',\n",
              " 'carol',\n",
              " 'carri',\n",
              " 'case',\n",
              " 'cash',\n",
              " 'casi',\n",
              " 'cast',\n",
              " 'catch',\n",
              " 'cathi',\n",
              " 'caught',\n",
              " 'caus',\n",
              " 'cavali',\n",
              " 'celebr',\n",
              " 'cell',\n",
              " 'cemeteri',\n",
              " 'center',\n",
              " 'ceremoni',\n",
              " 'chair',\n",
              " 'challeng',\n",
              " 'chamber',\n",
              " 'chanc',\n",
              " 'chang',\n",
              " 'charact',\n",
              " 'charg',\n",
              " 'chariot',\n",
              " 'charl',\n",
              " 'charley',\n",
              " 'charli',\n",
              " 'charnier',\n",
              " 'chase',\n",
              " 'check',\n",
              " 'chest',\n",
              " 'chicago',\n",
              " 'chief',\n",
              " 'child',\n",
              " 'childhood',\n",
              " 'children',\n",
              " 'chino',\n",
              " 'choic',\n",
              " 'choos',\n",
              " 'chris',\n",
              " 'christian',\n",
              " 'christma',\n",
              " 'church',\n",
              " 'ciccio',\n",
              " 'cicero',\n",
              " 'cigarett',\n",
              " 'citi',\n",
              " 'civil',\n",
              " 'civil war',\n",
              " 'claim',\n",
              " 'clarenc',\n",
              " 'class',\n",
              " 'claud',\n",
              " 'clean',\n",
              " 'clear',\n",
              " 'clemenza',\n",
              " 'climb',\n",
              " 'close',\n",
              " 'closer',\n",
              " 'cloth',\n",
              " 'cloudi',\n",
              " 'club',\n",
              " 'coach',\n",
              " 'coat',\n",
              " 'code',\n",
              " 'coffe',\n",
              " 'coffey',\n",
              " 'cold',\n",
              " 'collaps',\n",
              " 'colleagu',\n",
              " 'collect',\n",
              " 'colleg',\n",
              " 'colonel',\n",
              " 'colosseum',\n",
              " 'come',\n",
              " 'comfort',\n",
              " 'command',\n",
              " 'comment',\n",
              " 'commiss',\n",
              " 'commit',\n",
              " 'commit suicid',\n",
              " 'commodus',\n",
              " 'communic',\n",
              " 'compani',\n",
              " 'complain',\n",
              " 'complet',\n",
              " 'compos',\n",
              " 'comput',\n",
              " 'concentr',\n",
              " 'concern',\n",
              " 'concert',\n",
              " 'conclud',\n",
              " 'condit',\n",
              " 'conduct',\n",
              " 'confeder',\n",
              " 'confess',\n",
              " 'confid',\n",
              " 'confirm',\n",
              " 'confront',\n",
              " 'confus',\n",
              " 'connect',\n",
              " 'conni',\n",
              " 'consid',\n",
              " 'constant',\n",
              " 'contact',\n",
              " 'contain',\n",
              " 'continu',\n",
              " 'control',\n",
              " 'convers',\n",
              " 'convinc',\n",
              " 'cook',\n",
              " 'cop',\n",
              " 'corleon',\n",
              " 'corleon famili',\n",
              " 'corner',\n",
              " 'corpor',\n",
              " 'corps',\n",
              " 'cost',\n",
              " 'count',\n",
              " 'counter',\n",
              " 'countri',\n",
              " 'coupl',\n",
              " 'cours',\n",
              " 'court',\n",
              " 'cover',\n",
              " 'cowboy',\n",
              " 'crash',\n",
              " 'crawford',\n",
              " 'creat',\n",
              " 'creatur',\n",
              " 'credit',\n",
              " 'creed',\n",
              " 'crew',\n",
              " 'cri',\n",
              " 'crime',\n",
              " 'crimin',\n",
              " 'cross',\n",
              " 'crowd',\n",
              " 'crush',\n",
              " 'curt',\n",
              " 'curtin',\n",
              " 'custodi',\n",
              " 'custom',\n",
              " 'cut',\n",
              " 'dalla',\n",
              " 'damag',\n",
              " 'danc',\n",
              " 'danger',\n",
              " 'daphn',\n",
              " 'dark',\n",
              " 'date',\n",
              " 'daughter',\n",
              " 'dave',\n",
              " 'david',\n",
              " 'day',\n",
              " 'day later',\n",
              " 'dead',\n",
              " 'deal',\n",
              " 'death',\n",
              " 'death star',\n",
              " 'debbi',\n",
              " 'decemb',\n",
              " 'decid',\n",
              " 'decis',\n",
              " 'deck',\n",
              " 'declar',\n",
              " 'declin',\n",
              " 'deduc',\n",
              " 'deep',\n",
              " 'deepli',\n",
              " 'defeat',\n",
              " 'defend',\n",
              " 'defens',\n",
              " 'del',\n",
              " 'deliber',\n",
              " 'deliv',\n",
              " 'demand',\n",
              " 'demon',\n",
              " 'demonstr',\n",
              " 'denethor',\n",
              " 'deni',\n",
              " 'depart',\n",
              " 'depress',\n",
              " 'deputi',\n",
              " 'descend',\n",
              " 'describ',\n",
              " 'desert',\n",
              " 'deserv',\n",
              " 'desir',\n",
              " 'desk',\n",
              " 'desper',\n",
              " 'despit',\n",
              " 'destin',\n",
              " 'destroy',\n",
              " 'detect',\n",
              " 'determin',\n",
              " 'deton',\n",
              " 'devast',\n",
              " 'develop',\n",
              " 'devereaux',\n",
              " 'devic',\n",
              " 'die',\n",
              " 'differ',\n",
              " 'difficult',\n",
              " 'dig',\n",
              " 'diner',\n",
              " 'dinner',\n",
              " 'direct',\n",
              " 'director',\n",
              " 'disappear',\n",
              " 'discov',\n",
              " 'discoveri',\n",
              " 'discuss',\n",
              " 'disguis',\n",
              " 'dismiss',\n",
              " 'display',\n",
              " 'distanc',\n",
              " 'distract',\n",
              " 'distraught',\n",
              " 'distress',\n",
              " 'disturb',\n",
              " 'divorc',\n",
              " 'dobb',\n",
              " 'doc',\n",
              " 'dock',\n",
              " 'doctor',\n",
              " 'dog',\n",
              " 'dollar',\n",
              " 'domin',\n",
              " 'doom',\n",
              " 'door',\n",
              " 'dorothi',\n",
              " \"dorothi 's\",\n",
              " 'doyl',\n",
              " 'dr.',\n",
              " 'drag',\n",
              " 'draw',\n",
              " 'drawn',\n",
              " 'dream',\n",
              " 'dress',\n",
              " 'dri',\n",
              " 'drink',\n",
              " 'drive',\n",
              " 'drive away',\n",
              " 'driven',\n",
              " 'driver',\n",
              " 'droid',\n",
              " 'droog',\n",
              " 'drop',\n",
              " 'drown',\n",
              " 'drug',\n",
              " 'drunk',\n",
              " 'drunken',\n",
              " 'duel',\n",
              " 'duke',\n",
              " 'dunbar',\n",
              " 'duti',\n",
              " 'e.',\n",
              " 'e.t',\n",
              " 'eager',\n",
              " 'earli',\n",
              " 'earlier',\n",
              " 'earn',\n",
              " 'earth',\n",
              " 'east',\n",
              " 'eastman',\n",
              " 'eat',\n",
              " 'edg',\n",
              " 'edi',\n",
              " 'edward',\n",
              " 'effect',\n",
              " 'effort',\n",
              " 'elain',\n",
              " 'elder',\n",
              " 'electr',\n",
              " 'elev',\n",
              " 'elia',\n",
              " 'eliza',\n",
              " 'elizabeth',\n",
              " 'ellen',\n",
              " 'elli',\n",
              " 'elliot',\n",
              " 'elliott',\n",
              " 'els',\n",
              " 'embarrass',\n",
              " 'embrac',\n",
              " 'emerg',\n",
              " 'emma',\n",
              " \"emma 's\",\n",
              " 'emot',\n",
              " 'emperor',\n",
              " 'empir',\n",
              " 'employe',\n",
              " 'empti',\n",
              " 'en',\n",
              " 'encount',\n",
              " 'encourag',\n",
              " 'end',\n",
              " 'enemi',\n",
              " 'engag',\n",
              " 'engin',\n",
              " 'england',\n",
              " 'english',\n",
              " 'enjoy',\n",
              " 'enlist',\n",
              " 'ensu',\n",
              " 'enter',\n",
              " 'entir',\n",
              " 'entranc',\n",
              " 'erupt',\n",
              " 'escap',\n",
              " 'escobar',\n",
              " 'escort',\n",
              " 'especi',\n",
              " 'establish',\n",
              " 'estat',\n",
              " 'europ',\n",
              " 'eva',\n",
              " 'eve',\n",
              " 'evelyn',\n",
              " 'event',\n",
              " 'eventu',\n",
              " 'everi',\n",
              " 'everyon',\n",
              " 'everyth',\n",
              " 'evid',\n",
              " 'evil',\n",
              " 'ewel',\n",
              " 'examin',\n",
              " 'exchang',\n",
              " 'excit',\n",
              " 'execut',\n",
              " 'exhaust',\n",
              " 'exist',\n",
              " 'exit',\n",
              " 'exorc',\n",
              " 'expect',\n",
              " 'expens',\n",
              " 'experi',\n",
              " 'explain',\n",
              " 'explod',\n",
              " 'exploit',\n",
              " 'explos',\n",
              " 'expos',\n",
              " 'express',\n",
              " 'eye',\n",
              " 'f.',\n",
              " 'face',\n",
              " 'fact',\n",
              " 'factori',\n",
              " 'fail',\n",
              " 'failur',\n",
              " 'faisal',\n",
              " 'faith',\n",
              " 'fake',\n",
              " 'falcon',\n",
              " 'falfa',\n",
              " 'fall',\n",
              " 'fall love',\n",
              " 'fallen',\n",
              " 'fals',\n",
              " 'famili',\n",
              " \"famili 's\",\n",
              " 'famous',\n",
              " 'fanucci',\n",
              " 'far',\n",
              " 'faramir',\n",
              " 'farm',\n",
              " 'fatal',\n",
              " 'fate',\n",
              " 'father',\n",
              " \"father 's\",\n",
              " 'father barri',\n",
              " 'favor',\n",
              " 'fbi',\n",
              " 'fear',\n",
              " 'feel',\n",
              " 'feet',\n",
              " 'fellow',\n",
              " 'femal',\n",
              " 'field',\n",
              " 'fight',\n",
              " 'fighter',\n",
              " 'figur',\n",
              " 'film',\n",
              " \"film 's\",\n",
              " 'film end',\n",
              " 'film open',\n",
              " 'final',\n",
              " 'final scene',\n",
              " 'financi',\n",
              " 'finger',\n",
              " 'finish',\n",
              " 'fish',\n",
              " 'fist',\n",
              " 'fit',\n",
              " 'flap',\n",
              " 'flash',\n",
              " 'flashback',\n",
              " 'flat',\n",
              " 'flee',\n",
              " 'fli',\n",
              " 'flight',\n",
              " 'float',\n",
              " 'floor',\n",
              " 'florida',\n",
              " 'flower',\n",
              " 'floyd',\n",
              " 'focus',\n",
              " 'follow',\n",
              " 'food',\n",
              " 'foot',\n",
              " 'forc',\n",
              " 'forest',\n",
              " 'form',\n",
              " 'forrest',\n",
              " 'fort',\n",
              " 'fortun',\n",
              " 'forward',\n",
              " 'fran',\n",
              " 'franc',\n",
              " 'francisco',\n",
              " 'frank',\n",
              " 'fred',\n",
              " 'fredo',\n",
              " 'free',\n",
              " 'freedom',\n",
              " 'french',\n",
              " 'friend',\n",
              " \"friend 's\",\n",
              " 'friendship',\n",
              " 'frodo',\n",
              " 'frustrat',\n",
              " 'funer',\n",
              " 'furious',\n",
              " 'futur',\n",
              " 'gaear',\n",
              " 'gain',\n",
              " 'gala',\n",
              " 'galovitch',\n",
              " 'game',\n",
              " 'gandalf',\n",
              " 'gandhi',\n",
              " 'gang',\n",
              " 'gangster',\n",
              " 'garag',\n",
              " 'garden',\n",
              " 'gas',\n",
              " 'gate',\n",
              " 'gather',\n",
              " 'gave',\n",
              " 'gavin',\n",
              " 'gazzo',\n",
              " 'general',\n",
              " 'georg',\n",
              " \"georg 's\",\n",
              " 'german',\n",
              " 'germani',\n",
              " 'gerti',\n",
              " 'ghetto',\n",
              " 'girl',\n",
              " 'girlfriend',\n",
              " 'gitt',\n",
              " 'given',\n",
              " 'gladiat',\n",
              " 'glass',\n",
              " 'glinda',\n",
              " 'god',\n",
              " 'goe',\n",
              " 'gold',\n",
              " 'golden',\n",
              " 'gollum',\n",
              " 'gone',\n",
              " 'good',\n",
              " 'goodby',\n",
              " 'got',\n",
              " 'govern',\n",
              " 'governor',\n",
              " 'grab',\n",
              " 'graduat',\n",
              " 'grand',\n",
              " 'grant',\n",
              " 'grave',\n",
              " 'great',\n",
              " 'green',\n",
              " 'greet',\n",
              " 'ground',\n",
              " 'group',\n",
              " 'grow',\n",
              " 'guard',\n",
              " 'guest',\n",
              " 'guilti',\n",
              " 'gun',\n",
              " 'gunfight',\n",
              " 'gunpoint',\n",
              " 'gutman',\n",
              " 'guy',\n",
              " 'hagen',\n",
              " 'hair',\n",
              " 'hal',\n",
              " 'half',\n",
              " 'hall',\n",
              " 'hamilton',\n",
              " 'han',\n",
              " 'hand',\n",
              " 'handl',\n",
              " 'hang',\n",
              " 'happen',\n",
              " 'happi',\n",
              " 'harbor',\n",
              " 'hard',\n",
              " 'harold',\n",
              " 'harri',\n",
              " \"harri 's\",\n",
              " 'harsh',\n",
              " 'harvey',\n",
              " 'hat',\n",
              " 'head',\n",
              " 'headpiec',\n",
              " 'health',\n",
              " 'hear',\n",
              " 'heard',\n",
              " 'heart',\n",
              " 'heat',\n",
              " 'heathcliff',\n",
              " 'heavi',\n",
              " 'held',\n",
              " 'helicopt',\n",
              " 'help',\n",
              " 'henri',\n",
              " 'hero',\n",
              " 'heroin',\n",
              " 'hidden',\n",
              " 'hide',\n",
              " 'higgin',\n",
              " 'high',\n",
              " 'high school',\n",
              " 'highway',\n",
              " 'hill',\n",
              " 'hire',\n",
              " 'hit',\n",
              " 'hold',\n",
              " 'hole',\n",
              " 'holli',\n",
              " 'holm',\n",
              " 'home',\n",
              " 'homer',\n",
              " 'honor',\n",
              " 'hook',\n",
              " 'hooper',\n",
              " 'hope',\n",
              " 'horrifi',\n",
              " 'horror',\n",
              " 'hors',\n",
              " 'hosenfeld',\n",
              " 'hospit',\n",
              " 'hotel',\n",
              " 'hotel room',\n",
              " 'hour',\n",
              " 'hous',\n",
              " 'howard',\n",
              " 'howev',\n",
              " 'huge',\n",
              " 'hugh',\n",
              " 'human',\n",
              " 'humili',\n",
              " 'hundr',\n",
              " 'hunt',\n",
              " 'hunter',\n",
              " 'hurri',\n",
              " 'husband',\n",
              " 'idea',\n",
              " 'ident',\n",
              " 'identifi',\n",
              " 'ignor',\n",
              " 'ii',\n",
              " 'ill',\n",
              " 'ilsa',\n",
              " 'imag',\n",
              " 'immedi',\n",
              " 'imperi',\n",
              " 'impli',\n",
              " 'import',\n",
              " 'imposs',\n",
              " 'impress',\n",
              " 'improv',\n",
              " 'incid',\n",
              " 'includ',\n",
              " 'increas',\n",
              " 'indi',\n",
              " 'india',\n",
              " 'indian',\n",
              " 'indic',\n",
              " 'indiffer',\n",
              " 'inform',\n",
              " 'initi',\n",
              " 'injur',\n",
              " 'injuri',\n",
              " 'inmat',\n",
              " 'innoc',\n",
              " 'inquir',\n",
              " 'insan',\n",
              " 'insid',\n",
              " 'insist',\n",
              " 'instant',\n",
              " 'instead',\n",
              " 'institut',\n",
              " 'instruct',\n",
              " 'insult',\n",
              " 'insur',\n",
              " 'intend',\n",
              " 'intens',\n",
              " 'intent',\n",
              " 'interrog',\n",
              " 'interrupt',\n",
              " 'interven',\n",
              " 'interview',\n",
              " 'introduc',\n",
              " 'invas',\n",
              " 'investig',\n",
              " 'invit',\n",
              " 'involv',\n",
              " 'iri',\n",
              " 'island',\n",
              " 'issu',\n",
              " 'italian',\n",
              " 'jack',\n",
              " 'jackson',\n",
              " 'jail',\n",
              " 'jake',\n",
              " 'jame',\n",
              " 'jame stewart',\n",
              " 'japanes',\n",
              " 'jean',\n",
              " 'jeff',\n",
              " 'jeffri',\n",
              " 'jem',\n",
              " 'jenni',\n",
              " 'jerri',\n",
              " 'jet',\n",
              " 'jett',\n",
              " 'jew',\n",
              " 'jewish',\n",
              " 'jillian',\n",
              " 'jim',\n",
              " 'jimmi',\n",
              " 'joad',\n",
              " 'job',\n",
              " 'joe',\n",
              " 'joe jerri',\n",
              " 'joey',\n",
              " \"joey 's\",\n",
              " 'john',\n",
              " 'johnni',\n",
              " \"johnni 's\",\n",
              " 'join',\n",
              " 'joke',\n",
              " 'jone',\n",
              " 'jordi',\n",
              " 'joseph',\n",
              " 'journey',\n",
              " 'judah',\n",
              " 'judg',\n",
              " 'judi',\n",
              " 'judson',\n",
              " 'jule',\n",
              " 'juli',\n",
              " 'jump',\n",
              " 'junior',\n",
              " 'juri',\n",
              " 'juror',\n",
              " 'kane',\n",
              " \"kane 's\",\n",
              " 'kaplan',\n",
              " 'karen',\n",
              " 'karl',\n",
              " 'karra',\n",
              " 'kathi',\n",
              " 'kay',\n",
              " 'kelli',\n",
              " 'kemmerich',\n",
              " 'kendal',\n",
              " 'kenni',\n",
              " 'kenobi',\n",
              " 'kevin',\n",
              " 'key',\n",
              " 'kick',\n",
              " 'kid',\n",
              " 'kidnap',\n",
              " 'kill',\n",
              " 'killer',\n",
              " 'king',\n",
              " 'kiss',\n",
              " 'knew',\n",
              " 'knife',\n",
              " 'knock',\n",
              " 'know',\n",
              " 'knowledg',\n",
              " ...]"
            ]
          },
          "metadata": {
            "tags": []
          },
          "execution_count": 29
        }
      ]
    },
    {
      "cell_type": "code",
      "metadata": {
        "id": "LlwnSRHgWKob",
        "colab_type": "code",
        "outputId": "087b78d6-da32-44d9-a0fa-b0d7f00c3cad",
        "colab": {
          "base_uri": "https://localhost:8080/",
          "height": 52
        }
      },
      "source": [
        "# tf-idf matrix\n",
        "tfidf_matrix"
      ],
      "execution_count": 0,
      "outputs": [
        {
          "output_type": "execute_result",
          "data": {
            "text/plain": [
              "<100x2000 sparse matrix of type '<class 'numpy.float64'>'\n",
              "\twith 31769 stored elements in Compressed Sparse Row format>"
            ]
          },
          "metadata": {
            "tags": []
          },
          "execution_count": 30
        }
      ]
    },
    {
      "cell_type": "code",
      "metadata": {
        "id": "AKtfllBWi-79",
        "colab_type": "code",
        "outputId": "ab8b8f23-acf8-4ed0-c948-aa96ba32d5b2",
        "colab": {
          "base_uri": "https://localhost:8080/",
          "height": 141
        }
      },
      "source": [
        "# use cosine similarity to check the similarity for two documents\n",
        "from sklearn.metrics.pairwise import cosine_similarity\n",
        "cos_matrix = cosine_similarity(tfidf_matrix)\n",
        "print (cos_matrix)"
      ],
      "execution_count": 0,
      "outputs": [
        {
          "output_type": "stream",
          "text": [
            "[[1.         0.01587253 0.01952566 ... 0.02251429 0.02280225 0.04400671]\n",
            " [0.01587253 1.         0.0314611  ... 0.01242858 0.01335847 0.01926311]\n",
            " [0.01952566 0.0314611  1.         ... 0.01612858 0.01253687 0.04145735]\n",
            " ...\n",
            " [0.02251429 0.01242858 0.01612858 ... 1.         0.03184383 0.0459994 ]\n",
            " [0.02280225 0.01335847 0.01253687 ... 0.03184383 1.         0.01976441]\n",
            " [0.04400671 0.01926311 0.04145735 ... 0.0459994  0.01976441 1.        ]]\n"
          ],
          "name": "stdout"
        }
      ]
    },
    {
      "cell_type": "code",
      "metadata": {
        "id": "oISFsrsVjJUF",
        "colab_type": "code",
        "colab": {}
      },
      "source": [
        "# k-means clustering\n",
        "from sklearn.cluster import KMeans\n",
        "\n",
        "# number of clusters\n",
        "num_clusters = 5\n",
        "km = KMeans(n_clusters=num_clusters)\n",
        "km.fit(tfidf_matrix)\n",
        "clusters = km.labels_.tolist()"
      ],
      "execution_count": 0,
      "outputs": []
    },
    {
      "cell_type": "code",
      "metadata": {
        "id": "Pg5aJL7o5Qcf",
        "colab_type": "code",
        "colab": {}
      },
      "source": [
        "clusters"
      ],
      "execution_count": 0,
      "outputs": []
    },
    {
      "cell_type": "code",
      "metadata": {
        "id": "qGHuIXyxjOxq",
        "colab_type": "code",
        "colab": {}
      },
      "source": [
        "# create DataFrame films from all of the input files.\n",
        "films = { 'title': titles, 'rank': ranks, 'synopsis': synopses, 'cluster': clusters}\n",
        "frame = pd.DataFrame(films, index = [clusters] , columns = ['rank', 'title', 'cluster'])"
      ],
      "execution_count": 0,
      "outputs": []
    },
    {
      "cell_type": "code",
      "metadata": {
        "id": "_1UdDprh5-Qe",
        "colab_type": "code",
        "colab": {}
      },
      "source": [
        "films"
      ],
      "execution_count": 0,
      "outputs": []
    },
    {
      "cell_type": "code",
      "metadata": {
        "id": "27CWUj0JjSfu",
        "colab_type": "code",
        "outputId": "2f4913ef-1d30-48bb-a179-6abe27fcde61",
        "colab": {
          "base_uri": "https://localhost:8080/",
          "height": 215
        }
      },
      "source": [
        "print (\"Number of films included in each cluster:\")\n",
        "frame['cluster'].value_counts().to_frame()"
      ],
      "execution_count": 0,
      "outputs": [
        {
          "output_type": "stream",
          "text": [
            "Number of films included in each cluster:\n"
          ],
          "name": "stdout"
        },
        {
          "output_type": "execute_result",
          "data": {
            "text/html": [
              "<div>\n",
              "<style scoped>\n",
              "    .dataframe tbody tr th:only-of-type {\n",
              "        vertical-align: middle;\n",
              "    }\n",
              "\n",
              "    .dataframe tbody tr th {\n",
              "        vertical-align: top;\n",
              "    }\n",
              "\n",
              "    .dataframe thead th {\n",
              "        text-align: right;\n",
              "    }\n",
              "</style>\n",
              "<table border=\"1\" class=\"dataframe\">\n",
              "  <thead>\n",
              "    <tr style=\"text-align: right;\">\n",
              "      <th></th>\n",
              "      <th>cluster</th>\n",
              "    </tr>\n",
              "  </thead>\n",
              "  <tbody>\n",
              "    <tr>\n",
              "      <th>2</th>\n",
              "      <td>44</td>\n",
              "    </tr>\n",
              "    <tr>\n",
              "      <th>1</th>\n",
              "      <td>24</td>\n",
              "    </tr>\n",
              "    <tr>\n",
              "      <th>3</th>\n",
              "      <td>13</td>\n",
              "    </tr>\n",
              "    <tr>\n",
              "      <th>4</th>\n",
              "      <td>10</td>\n",
              "    </tr>\n",
              "    <tr>\n",
              "      <th>0</th>\n",
              "      <td>9</td>\n",
              "    </tr>\n",
              "  </tbody>\n",
              "</table>\n",
              "</div>"
            ],
            "text/plain": [
              "   cluster\n",
              "2       44\n",
              "1       24\n",
              "3       13\n",
              "4       10\n",
              "0        9"
            ]
          },
          "metadata": {
            "tags": []
          },
          "execution_count": 35
        }
      ]
    },
    {
      "cell_type": "code",
      "metadata": {
        "id": "YVjBcjfijWvs",
        "colab_type": "code",
        "outputId": "0a1ba13e-33e2-47c3-cab9-53787721235f",
        "colab": {
          "base_uri": "https://localhost:8080/",
          "height": 410
        }
      },
      "source": [
        "print (\"<Document clustering result by K-means>\")\n",
        "\n",
        "#km.cluster_centers_ denotes the importances of each items in centroid.\n",
        "#We need to sort it in decreasing-order and get the top k items.\n",
        "order_centroids = km.cluster_centers_.argsort()[:, ::-1] \n",
        "\n",
        "Cluster_keywords_summary = {}\n",
        "for i in range(num_clusters):\n",
        "    print (\"Cluster \" + str(i) + \" words:\", end='')\n",
        "    Cluster_keywords_summary[i] = []\n",
        "    for ind in order_centroids[i, :6]: #replace 6 with n words per cluster\n",
        "        Cluster_keywords_summary[i].append(vocab_frame_dict[tf_selected_words[ind]])\n",
        "        print (vocab_frame_dict[tf_selected_words[ind]] + \",\", end='')\n",
        "    print ()\n",
        "    #Here ix means index, which is the clusterID of each item.\n",
        "    #Without tolist, the values result from dataframe is <type 'numpy.ndarray'>\n",
        "    cluster_movies = frame.ix[i]['title'].values.tolist()\n",
        "    print (\"Cluster \" + str(i) + \" titles (\" + str(len(cluster_movies)) + \" movies): \")\n",
        "    print (\", \".join(cluster_movies))\n",
        "    print ()"
      ],
      "execution_count": 0,
      "outputs": [
        {
          "output_type": "stream",
          "text": [
            "<Document clustering result by K-means>\n",
            "Cluster 0 words:michael,dorothy,vito,thorwald,corleone,e.t,\n",
            "Cluster 0 titles (9 movies): \n",
            "The Godfather, The Wizard of Oz, The Godfather: Part II, E.T. the Extra-Terrestrial, Jaws, The Apartment, Annie Hall, Tootsie, Rear Window\n",
            "\n",
            "Cluster 1 words:maria,captain,german,beale,nazis,karen,\n",
            "Cluster 1 titles (24 movies): \n",
            "Schindler's List, Casablanca, Sunset Blvd., The Sound of Music, West Side Story, Star Wars, Dr. Strangelove or: How I Learned to Stop Worrying and Love the Bomb, Amadeus, Apocalypse Now, Gladiator, From Here to Eternity, Saving Private Ryan, Raiders of the Lost Ark, My Fair Lady, Doctor Zhivago, Platoon, The Pianist, The Exorcist, Out of Africa, Terms of Endearment, Network, The African Queen, Mutiny on the Bounty, The Maltese Falcon\n",
            "\n",
            "Cluster 2 words:george,kane,mike,henry,rocky,andy,\n",
            "Cluster 2 titles (44 movies): \n",
            "The Shawshank Redemption, One Flew Over the Cuckoo's Nest, Gone with the Wind, Citizen Kane, Titanic, Lawrence of Arabia, Vertigo, Forrest Gump, The Silence of the Lambs, The Bridge on the River Kwai, It's a Wonderful Life, 12 Angry Men, The Lord of the Rings: The Return of the King, Unforgiven, Rocky, A Streetcar Named Desire, The Philadelphia Story, An American in Paris, The Best Years of Our Lives, Ben-Hur, Patton, The Good, the Bad and the Ugly, Butch Cassidy and the Sundance Kid, The Treasure of the Sierra Madre, High Noon, Dances with Wolves, Goodfellas, The Deer Hunter, All Quiet on the Western Front, The French Connection, City Lights, The King's Speech, It Happened One Night, A Place in the Sun, Mr. Smith Goes to Washington, Rain Man, Good Will Hunting, Giant, American Graffiti, Stagecoach, Taxi Driver, Rebel Without a Cause, The Third Man, North by Northwest\n",
            "\n",
            "Cluster 3 words:alex,gandhi,tom,hal,neff,paul,\n",
            "Cluster 3 titles (13 movies): \n",
            "Psycho, 2001: A Space Odyssey, Singin' in the Rain, Gandhi, To Kill a Mockingbird, Fargo, The Grapes of Wrath, The Green Mile, Close Encounters of the Third Kind, Nashville, A Clockwork Orange, Double Indemnity, Yankee Doodle Dandy\n",
            "\n",
            "Cluster 4 words:joe,jake,wallaces,terry,joey,shane,\n",
            "Cluster 4 titles (10 movies): \n",
            "Raging Bull, On the Waterfront, Chinatown, Some Like It Hot, Braveheart, Midnight Cowboy, Shane, The Graduate, Pulp Fiction, Wuthering Heights\n",
            "\n"
          ],
          "name": "stdout"
        }
      ]
    },
    {
      "cell_type": "code",
      "metadata": {
        "id": "4jUmB2QGonU5",
        "colab_type": "code",
        "colab": {}
      },
      "source": [
        "# use pca to reduce dimensions to 2d for visibility, just want to see if there 2d can give us some insights\n",
        "# this is not an appropriate method, just a guess.\n",
        "pca = decomposition.PCA(n_components=2)\n",
        "tfidf_matrix_np=tfidf_matrix.toarray()\n",
        "pca.fit(tfidf_matrix_np)\n",
        "X = pca.transform(tfidf_matrix_np)\n",
        "\n",
        "xs, ys = X[:, 0], X[:, 1]\n",
        "\n",
        "#set up colors per clusters using a dict\n",
        "cluster_colors = {0: '#1b9e77', 1: '#d95f02', 2: '#7570b3', 3: '#e7298a', 4: '#66a61e'}\n",
        "#set up cluster names using a dict\n",
        "cluster_names = {}\n",
        "for i in range(num_clusters):\n",
        "    cluster_names[i] = \", \".join(Cluster_keywords_summary[i])"
      ],
      "execution_count": 0,
      "outputs": []
    },
    {
      "cell_type": "code",
      "metadata": {
        "id": "COt1VHaMrUQ5",
        "colab_type": "code",
        "outputId": "9c16bf23-ca13-466a-f0e0-7018fa171487",
        "colab": {
          "base_uri": "https://localhost:8080/",
          "height": 536
        }
      },
      "source": [
        "# %matplotlib inline \n",
        "\n",
        "#create data frame with PCA cluster results\n",
        "df = pd.DataFrame(dict(x=xs, y=ys, label=clusters, title=titles)) \n",
        "groups = df.groupby(clusters)\n",
        "\n",
        "# set up plot\n",
        "fig, ax = plt.subplots(figsize=(16, 9))\n",
        "#Set color for each cluster/group\n",
        "for name, group in groups:\n",
        "    ax.plot(group.x, group.y, marker='o', linestyle='', ms=12, \n",
        "            label=cluster_names[name], color=cluster_colors[name], \n",
        "            mec='none')\n",
        "\n",
        "ax.legend(numpoints=1,loc=4)  #show legend with only 1 point, position is right bottom.\n",
        "\n",
        "plt.show() #show the plot"
      ],
      "execution_count": 0,
      "outputs": [
        {
          "output_type": "display_data",
          "data": {
            "image/png": "[encoded data removed]",
            "text/plain": [
              "<Figure size 1152x648 with 1 Axes>"
            ]
          },
          "metadata": {
            "tags": []
          }
        }
      ]
    },
    {
      "cell_type": "code",
      "metadata": {
        "id": "V1W6Gq84raqw",
        "colab_type": "code",
        "colab": {}
      },
      "source": [
        "# Use LDA for clustering\n",
        "from sklearn.decomposition import LatentDirichletAllocation\n",
        "lda = LatentDirichletAllocation(n_components=5, learning_method = 'online')"
      ],
      "execution_count": 0,
      "outputs": []
    },
    {
      "cell_type": "code",
      "metadata": {
        "id": "0tfxQHgCrc9A",
        "colab_type": "code",
        "colab": {}
      },
      "source": [
        "# LDA requires integer values, keep first 3 digits\n",
        "tfidf_matrix_lda = (tfidf_matrix * 100)\n",
        "tfidf_matrix_lda = tfidf_matrix_lda.astype(int)"
      ],
      "execution_count": 0,
      "outputs": []
    },
    {
      "cell_type": "code",
      "metadata": {
        "id": "pNIVCK1JrfSj",
        "colab_type": "code",
        "outputId": "fcfcce38-fc54-4390-cf67-cc00260b3082",
        "colab": {
          "base_uri": "https://localhost:8080/",
          "height": 141
        }
      },
      "source": [
        "lda.fit(tfidf_matrix_lda)"
      ],
      "execution_count": 0,
      "outputs": [
        {
          "output_type": "execute_result",
          "data": {
            "text/plain": [
              "LatentDirichletAllocation(batch_size=128, doc_topic_prior=None,\n",
              "             evaluate_every=-1, learning_decay=0.7,\n",
              "             learning_method='online', learning_offset=10.0,\n",
              "             max_doc_update_iter=100, max_iter=10, mean_change_tol=0.001,\n",
              "             n_components=5, n_jobs=None, n_topics=None, perp_tol=0.1,\n",
              "             random_state=None, topic_word_prior=None,\n",
              "             total_samples=1000000.0, verbose=0)"
            ]
          },
          "metadata": {
            "tags": []
          },
          "execution_count": 42
        }
      ]
    },
    {
      "cell_type": "code",
      "metadata": {
        "id": "p0KRkDWxrhAh",
        "colab_type": "code",
        "outputId": "ddf1c2c2-5d13-4b64-bcea-5cfb828c2f68",
        "colab": {
          "base_uri": "https://localhost:8080/",
          "height": 34
        }
      },
      "source": [
        "# topics and words matrix\n",
        "topic_word = lda.components_\n",
        "print(topic_word.shape)\n"
      ],
      "execution_count": 0,
      "outputs": [
        {
          "output_type": "stream",
          "text": [
            "(5, 2000)\n"
          ],
          "name": "stdout"
        }
      ]
    },
    {
      "cell_type": "code",
      "metadata": {
        "id": "z10Rnq8gri3U",
        "colab_type": "code",
        "colab": {}
      },
      "source": [
        "n_top_words = 7\n",
        "topic_keywords_list = []\n",
        "for i, topic_dist in enumerate(topic_word):\n",
        "    #Here we select top(n_top_words-1)\n",
        "    lda_topic_words = np.array(tf_selected_words)[np.argsort(topic_dist)][:-n_top_words:-1] \n",
        "    for j in range(len(lda_topic_words)):\n",
        "        lda_topic_words[j] = vocab_frame_dict[lda_topic_words[j]]\n",
        "    topic_keywords_list.append(lda_topic_words.tolist())"
      ],
      "execution_count": 0,
      "outputs": []
    },
    {
      "cell_type": "code",
      "metadata": {
        "id": "xFRTlA09rkto",
        "colab_type": "code",
        "outputId": "5afb4dea-dd95-449d-b35f-7701518cd330",
        "colab": {
          "base_uri": "https://localhost:8080/",
          "height": 34
        }
      },
      "source": [
        "# documents and topics matri\n",
        "doc_topic = lda.transform(tfidf_matrix_lda)\n",
        "print (doc_topic.shape)\n"
      ],
      "execution_count": 0,
      "outputs": [
        {
          "output_type": "stream",
          "text": [
            "(100, 5)\n"
          ],
          "name": "stdout"
        }
      ]
    },
    {
      "cell_type": "code",
      "metadata": {
        "id": "0Koh2mtDrmRy",
        "colab_type": "code",
        "outputId": "536acb77-cd5a-425f-d653-16c485c5dab4",
        "colab": {
          "base_uri": "https://localhost:8080/",
          "height": 410
        }
      },
      "source": [
        "# print out the clusters and topics and titles of the movies\n",
        "topic_doc_dict = {}\n",
        "print (\"<Document clustering result by LDA>\")\n",
        "for i in range(len(doc_topic)):\n",
        "    topicID = doc_topic[i].argmax()\n",
        "    if topicID not in topic_doc_dict:\n",
        "        topic_doc_dict[topicID] = [titles[i]]\n",
        "    else:\n",
        "        topic_doc_dict[topicID].append(titles[i])\n",
        "for i in topic_doc_dict:\n",
        "    print (\"Cluster \" + str(i) + \" words: \" + \", \".join(topic_keywords_list[i]))\n",
        "    print (\"Cluster \" + str(i) + \" titles (\" + str(len(topic_doc_dict[i])) + \" movies): \")\n",
        "    print (', '.join(topic_doc_dict[i]))\n",
        "    print ()"
      ],
      "execution_count": 0,
      "outputs": [
        {
          "output_type": "stream",
          "text": [
            "<Document clustering result by LDA>\n",
            "Cluster 4 words: michael, paul, forrestal, charlie, dunbar, schindler\n",
            "Cluster 4 titles (22 movies): \n",
            "The Godfather, Schindler's List, Lawrence of Arabia, The Godfather: Part II, Forrest Gump, Star Wars, E.T. the Extra-Terrestrial, Chinatown, Gladiator, To Kill a Mockingbird, The Best Years of Our Lives, Platoon, Dances with Wolves, Goodfellas, The Deer Hunter, All Quiet on the Western Front, City Lights, A Place in the Sun, Rain Man, Terms of Endearment, The Green Mile, The African Queen\n",
            "\n",
            "Cluster 2 words: joe, jerry, terry, beale, andy, mcmurphy\n",
            "Cluster 2 titles (22 movies): \n",
            "The Shawshank Redemption, Raging Bull, One Flew Over the Cuckoo's Nest, Sunset Blvd., On the Waterfront, The Sound of Music, The Bridge on the River Kwai, Some Like It Hot, A Streetcar Named Desire, An American in Paris, Ben-Hur, Midnight Cowboy, Annie Hall, Fargo, Shane, Network, Nashville, The Graduate, American Graffiti, Rebel Without a Cause, North by Northwest, Yankee Doodle Dandy\n",
            "\n",
            "Cluster 1 words: butch, kane, munny, shark, rick, smith\n",
            "Cluster 1 titles (18 movies): \n",
            "Casablanca, Citizen Kane, Titanic, West Side Story, 2001: A Space Odyssey, The Silence of the Lambs, From Here to Eternity, Unforgiven, Doctor Zhivago, Jaws, Butch Cassidy and the Sundance Kid, The Treasure of the Sierra Madre, High Noon, The French Connection, Mr. Smith Goes to Washington, Good Will Hunting, Close Encounters of the Third Kind, Pulp Fiction\n",
            "\n",
            "Cluster 0 words: dorothy, george, travis, alex, patton, gandhi\n",
            "Cluster 0 titles (19 movies): \n",
            "Gone with the Wind, The Wizard of Oz, It's a Wonderful Life, Dr. Strangelove or: How I Learned to Stop Worrying and Love the Bomb, Gandhi, Saving Private Ryan, The Philadelphia Story, My Fair Lady, Patton, The Good, the Bad and the Ugly, The Exorcist, The King's Speech, Tootsie, Mutiny on the Bounty, The Maltese Falcon, A Clockwork Orange, Taxi Driver, Rear Window, The Third Man\n",
            "\n",
            "Cluster 3 words: juror, rocky, neff, heathcliff, wallaces, scotty\n",
            "Cluster 3 titles (19 movies): \n",
            "Psycho, Vertigo, Singin' in the Rain, 12 Angry Men, Amadeus, Apocalypse Now, The Lord of the Rings: The Return of the King, Raiders of the Lost Ark, Rocky, Braveheart, The Apartment, The Pianist, It Happened One Night, Out of Africa, Giant, The Grapes of Wrath, Stagecoach, Wuthering Heights, Double Indemnity\n",
            "\n"
          ],
          "name": "stdout"
        }
      ]
    },
    {
      "cell_type": "code",
      "metadata": {
        "id": "UQavID-0rpRB",
        "colab_type": "code",
        "outputId": "8f20661c-4ba4-40b1-b1e6-7df5637558fe",
        "colab": {
          "base_uri": "https://localhost:8080/",
          "height": 346
        }
      },
      "source": [
        "# An example of k-means, no relationship with above nlp case. The data is generated randomly.\n",
        "from sklearn.datasets.samples_generator import make_blobs\n",
        "X, y = make_blobs(n_samples=300, centers=4,\n",
        "                  random_state=0, cluster_std=0.60)\n",
        "plt.scatter(X[:, 0], X[:, 1], s=50);"
      ],
      "execution_count": 0,
      "outputs": [
        {
          "output_type": "display_data",
          "data": {
            "image/png": "[encoded data removed]",
            "text/plain": [
              "<Figure size 576x396 with 1 Axes>"
            ]
          },
          "metadata": {
            "tags": []
          }
        }
      ]
    },
    {
      "cell_type": "code",
      "metadata": {
        "id": "a0kMKca4rsXL",
        "colab_type": "code",
        "outputId": "c4b8fa91-b13d-4f0a-956c-3d8864b26c80",
        "colab": {
          "base_uri": "https://localhost:8080/",
          "height": 346
        }
      },
      "source": [
        "from sklearn.cluster import KMeans\n",
        "est = KMeans(4)  # 4 clusters\n",
        "est.fit(X)\n",
        "y_kmeans = est.predict(X)\n",
        "plt.scatter(X[:, 0], X[:, 1], c=y_kmeans, s=50);"
      ],
      "execution_count": 0,
      "outputs": [
        {
          "output_type": "display_data",
          "data": {
            "image/png": "[encoded data removed]",
            "text/plain": [
              "<Figure size 576x396 with 1 Axes>"
            ]
          },
          "metadata": {
            "tags": []
          }
        }
      ]
    },
    {
      "cell_type": "code",
      "metadata": {
        "id": "LdeTuSc9sUvq",
        "colab_type": "code",
        "colab": {}
      },
      "source": [
        " class SSS:\n",
        "    def canFinish(self, numCourses, prerequisites):\n",
        "        \"\"\"\n",
        "        :type numCourses: int\n",
        "        :type prerequisites: List[List[int]]\n",
        "        :rtype: bool\n",
        "        \"\"\"\n",
        "        graph = collections.defaultdict(list)\n",
        "        for u, v in prerequisites:\n",
        "            graph[u].append(v)\n",
        "        visited = [0] * numCourses\n",
        "        for i in range(numCourses):\n",
        "            if not self.dfs(graph, visited, i):\n",
        "                return False\n",
        "        return True\n",
        "            \n",
        "    def dfs(self, graph, visited, i):\n",
        "        if visited[i] == 1:\n",
        "            return False\n",
        "        if visited[i] == 2:\n",
        "            return True\n",
        "        visited[i] = 1\n",
        "        for j in graph[i]:\n",
        "            print(visited)\n",
        "            if not self.dfs(graph, visited, j):\n",
        "                return False\n",
        "        visited[i] == 2\n",
        "        return True"
      ],
      "execution_count": 0,
      "outputs": []
    },
    {
      "cell_type": "code",
      "metadata": {
        "id": "y5MdEX9Esgc3",
        "colab_type": "code",
        "outputId": "eff8b967-b5d2-47b5-e6d6-5e3d25663269",
        "colab": {
          "base_uri": "https://localhost:8080/",
          "height": 70
        }
      },
      "source": [
        "import collections\n",
        "s = SSS()\n",
        "s.canFinish(2, [[0,1],[1,0]])"
      ],
      "execution_count": 0,
      "outputs": [
        {
          "output_type": "stream",
          "text": [
            "[1, 0]\n",
            "[1, 1]\n"
          ],
          "name": "stdout"
        },
        {
          "output_type": "execute_result",
          "data": {
            "text/plain": [
              "False"
            ]
          },
          "metadata": {
            "tags": []
          },
          "execution_count": 10
        }
      ]
    },
    {
      "cell_type": "code",
      "metadata": {
        "id": "UaC281Jnsoy0",
        "colab_type": "code",
        "colab": {}
      },
      "source": [
        ""
      ],
      "execution_count": 0,
      "outputs": []
    }
  ]
}
